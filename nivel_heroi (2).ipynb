{
 "cells": [
  {
   "cell_type": "markdown",
   "id": "46b8a80b-0412-4f2f-a70a-45837973c8b6",
   "metadata": {},
   "source": [
    "Desafio do Felipão\r\n",
    "\r\n",
    "**O Que deve ser utilizado**\r\n",
    "- Variáveis\r\n",
    "- Operadores\r\n",
    "- Laços de repetição\r\n",
    "- Estruturas de decisões\r\n",
    "## Objetivo\r\n",
    "Crie uma variável para armazenar o nome e a quantidade de experiência (XP) de um herói, depois utilize uma estrutura de decisão para apresentar alguma das mensagens abaixo:\r\n",
    "Se XP for menor do que 1.000 = Ferro\r\n",
    "Se XP for entre 1.001 e 2.000 = Bronze\r\n",
    "Se XP for entre 2.001 e 5.000 = Prata\r\n",
    "Se XP for entre 5.001 e 7.000 = Ouro\r\n",
    "Se XP for entre 7.001 e 8.000 = Platina\r\n",
    "Se XP for entre 8.001 e 9.000 = Ascendente\r\n",
    "Se XP for entre 9.001 e 10.000= Imortal\r\n",
    "Se XP for maior ou igual a 10.001 = Radiante\r\n",
    "## Saída\r\n",
    "Ao final deve se exibir uma mensagem:\r\n",
    "\"O Herói de nome **{nome}** está no nível de **{nivel}**\"\r\n"
   ]
  },
  {
   "cell_type": "markdown",
   "id": "c3397c39-aa45-478a-b1f0-4b389df8b922",
   "metadata": {},
   "source": [
    "# Encontrando a solução"
   ]
  },
  {
   "cell_type": "code",
   "execution_count": 54,
   "id": "0711f54f-9189-4ad9-a03a-f6f859f301fa",
   "metadata": {},
   "outputs": [
    {
     "name": "stdin",
     "output_type": "stream",
     "text": [
      "Digite o nome do herói:  barnabé\n"
     ]
    }
   ],
   "source": [
    "nome = str(input (\"Digite o nome do herói: \"))"
   ]
  },
  {
   "cell_type": "code",
   "execution_count": 55,
   "id": "b0cc0710-82d9-4322-ab89-6ecbc1d5932b",
   "metadata": {},
   "outputs": [
    {
     "name": "stdin",
     "output_type": "stream",
     "text": [
      "Digite quantos pontos o herói conseguiu:  8900\n"
     ]
    }
   ],
   "source": [
    "xp = int(input(\"Digite quantos pontos o herói conseguiu: \"))"
   ]
  },
  {
   "cell_type": "code",
   "execution_count": 56,
   "id": "cbfb44f6-1c89-4c32-b7ce-fde1bf03d0d7",
   "metadata": {},
   "outputs": [
    {
     "name": "stdout",
     "output_type": "stream",
     "text": [
      "O herói barnabé está no nível Ascendente.\n"
     ]
    }
   ],
   "source": [
    "if (xp < 1000):\n",
    "    print(f\"O herói {nome} está no nível Ferro.\")\n",
    "elif 1001 <= xp <= 2000:\n",
    "    print(f\"O herói {nome} está no nível Bronze.\")\n",
    "elif 2001 <= xp <= 5000:\n",
    "    print(f\"O herói {nome} está no nível Prata.\")\n",
    "elif 5001 <= xp <= 7000:\n",
    "    print(f\"O herói {nome} está no nível Ouro.\")\n",
    "elif 7001 <= xp <= 8000:\n",
    "    print(f\"O herói {nome} está no nível Platina.\")\n",
    "elif 8001 <= xp <= 9000:\n",
    "    print(f\"O herói {nome} está no nível Ascendente.\")\n",
    "elif 9001 <= xp <= 10000:\n",
    "    print(f\"O herói {nome} está no nível Imortal.\")\n",
    "else:\n",
    "    print(f\"O herói {nome} está no nível Radiante.\")"
   ]
  },
  {
   "cell_type": "markdown",
   "id": "75d629de-faec-4978-8da4-5054240d448e",
   "metadata": {},
   "source": [
    "# Melhorando a Solução"
   ]
  },
  {
   "cell_type": "code",
   "execution_count": null,
   "id": "673e49d5-d636-4bcf-986b-b8519d1f822e",
   "metadata": {},
   "outputs": [],
   "source": [
    "nome = input(\"Digite o nome do herói: \").strip()\n",
    "xp = int(input(\"Digite quantos pontos o herói conseguiu: \").strip())\n",
    "\n",
    "if xp < 1000:\n",
    "    nivel = \"Ferro\"\n",
    "elif 1001 <= xp <= 2000:\n",
    "    nivel = \"Bronze\"\n",
    "elif 2001 <= xp <= 5000:\n",
    "    nivel = \"Prata\"\n",
    "elif 5001 <= xp <= 7000:\n",
    "    nivel = \"Ouro\"\n",
    "elif 7001 <= xp <= 8000:\n",
    "    nivel = \"Platina\"\n",
    "elif 8001 <= xp <= 9000:\n",
    "    nivel = \"Ascendente\"\n",
    "elif 9001 <= xp <= 10000:\n",
    "    nivel = \"Imortal\"\n",
    "else:\n",
    "    nivel = \"Radiante\"\n",
    "\n",
    "print(f\"O Herói de nome **{nome}** está no nível **{nivel}**.\")"
   ]
  },
  {
   "cell_type": "markdown",
   "id": "4443c287-fad3-496f-af1c-7fdc3d2d2b63",
   "metadata": {},
   "source": [
    "# Testando outra possibilidade"
   ]
  },
  {
   "cell_type": "code",
   "execution_count": 52,
   "id": "020ad753-db57-49cc-afd4-2e6e6c52fde0",
   "metadata": {},
   "outputs": [
    {
     "name": "stdin",
     "output_type": "stream",
     "text": [
      "Digite o nome do herói:  Joana D'Arc\n",
      "Digite quantos pontos o/a herói(na) conseguiu:  8900\n"
     ]
    },
    {
     "name": "stdout",
     "output_type": "stream",
     "text": [
      "O/A Herói(na) de nome **Joana D'Arc** está no nível **Ascendente**.\n"
     ]
    }
   ],
   "source": [
    "def nivel_heroi(xp: int) -> str:\n",
    "    if xp < 1000:\n",
    "        return \"Ferro\"\n",
    "    elif 1001 <= xp <= 2000:\n",
    "        return \"Bronze\"\n",
    "    elif 2001 <= xp <= 5000:\n",
    "        return \"Prata\"\n",
    "    elif 5001 <= xp <= 7000:\n",
    "        return \"Ouro\"\n",
    "    elif 7001 <= xp <= 8000:\n",
    "        return \"Platina\"\n",
    "    elif 8001 <= xp <= 9000:\n",
    "        return \"Ascendente\"\n",
    "    elif 9001 <= xp <= 10000:\n",
    "        return \"Imortal\"\n",
    "    else:  # xp >= 10001\n",
    "        return \"Radiante\"\n",
    "\n",
    "def main():\n",
    "    try:\n",
    "        nome = input(\"Digite o nome do herói: \").strip()\n",
    "        xp = int(input(\"Digite quantos pontos o/a herói(na) conseguiu: \").strip())\n",
    "    except ValueError:\n",
    "        print(\"Entrada inválida. Informe XP como número inteiro.\")\n",
    "        return\n",
    "\n",
    "    nivel = nivel_heroi(xp)\n",
    "    print(f\"O/A Herói(na) de nome **{nome}** está no nível **{nivel}**.\")\n",
    "\n",
    "if __name__ == \"__main__\":\n",
    "    main()"
   ]
  },
  {
   "cell_type": "code",
   "execution_count": null,
   "id": "eee8f18a-f70c-4b80-9e57-2ad4f4d7a160",
   "metadata": {},
   "outputs": [],
   "source": []
  }
 ],
 "metadata": {
  "kernelspec": {
   "display_name": "Python 3 (ipykernel)",
   "language": "python",
   "name": "python3"
  },
  "language_info": {
   "codemirror_mode": {
    "name": "ipython",
    "version": 3
   },
   "file_extension": ".py",
   "mimetype": "text/x-python",
   "name": "python",
   "nbconvert_exporter": "python",
   "pygments_lexer": "ipython3",
   "version": "3.12.4"
  }
 },
 "nbformat": 4,
 "nbformat_minor": 5
}
